{
 "cells": [
  {
   "cell_type": "code",
   "execution_count": 8,
   "id": "959dfd0a",
   "metadata": {},
   "outputs": [
    {
     "name": "stdout",
     "output_type": "stream",
     "text": [
      "Enter the number : 5\n",
      "0\n",
      "1\n",
      "2\n",
      "3\n",
      "5\n",
      "8\n"
     ]
    }
   ],
   "source": [
    "n = int(input(\"Enter the number : \"))\n",
    "\n",
    "def fib(n):\n",
    "    a = 0 \n",
    "    b = 1 \n",
    "    \n",
    "    if n < 0 :\n",
    "        print(\"Invalid value\")\n",
    "        \n",
    "    else:\n",
    "        print(a)\n",
    "        print(b)\n",
    "        \n",
    "        for i in range(2 , n + 1):\n",
    "            \n",
    "            c = a + b \n",
    "            a = b\n",
    "            b = c \n",
    "            c = a + b\n",
    "            \n",
    "            print(c)\n",
    "        \n",
    "    \n",
    "fib(n)\n",
    "        "
   ]
  },
  {
   "cell_type": "code",
   "execution_count": 11,
   "id": "a8dd607e",
   "metadata": {},
   "outputs": [
    {
     "name": "stdout",
     "output_type": "stream",
     "text": [
      "Enter the number : 10\n",
      "0\n",
      "1\n",
      "2\n",
      "3\n",
      "5\n",
      "8\n",
      "13\n",
      "21\n",
      "34\n",
      "55\n",
      "89\n"
     ]
    }
   ],
   "source": [
    "n = int(input(\"Enter the number : \"))\n",
    "\n",
    "def fib(n):\n",
    "    a = 0 \n",
    "    b = 1 \n",
    "    \n",
    "    if n < 0 :\n",
    "        print(\"Invalid value\")\n",
    "        \n",
    "    else:\n",
    "        print(a)\n",
    "        print(b)\n",
    "        \n",
    "        for i in range(2 , n + 1):\n",
    "            \n",
    "            c = a + b \n",
    "            a = b\n",
    "            b = c \n",
    "            c = a + b\n",
    "            \n",
    "            print(c)\n",
    "        \n",
    "    \n",
    "fib(n)\n",
    "        "
   ]
  },
  {
   "cell_type": "code",
   "execution_count": 12,
   "id": "05daec74",
   "metadata": {},
   "outputs": [
    {
     "name": "stdout",
     "output_type": "stream",
     "text": [
      "Enter the number : 6\n",
      "0\n",
      "1\n",
      "2\n",
      "3\n",
      "5\n",
      "8\n",
      "13\n"
     ]
    }
   ],
   "source": [
    "n = int(input(\"Enter the number : \"))\n",
    "\n",
    "def fib(n):\n",
    "    a = 0 \n",
    "    b = 1 \n",
    "    \n",
    "    if n < 0 :\n",
    "        print(\"Invalid value\")\n",
    "        \n",
    "    else:\n",
    "        print(a)\n",
    "        print(b)\n",
    "        \n",
    "        for i in range(2 , n + 1):\n",
    "            \n",
    "            c = a + b \n",
    "            a = b\n",
    "            b = c \n",
    "            c = a + b\n",
    "            \n",
    "            print(c)\n",
    "        \n",
    "    \n",
    "fib(n)\n",
    "        "
   ]
  },
  {
   "cell_type": "code",
   "execution_count": null,
   "id": "13c2f1ee",
   "metadata": {},
   "outputs": [],
   "source": []
  }
 ],
 "metadata": {
  "kernelspec": {
   "display_name": "Python 3 (ipykernel)",
   "language": "python",
   "name": "python3"
  },
  "language_info": {
   "codemirror_mode": {
    "name": "ipython",
    "version": 3
   },
   "file_extension": ".py",
   "mimetype": "text/x-python",
   "name": "python",
   "nbconvert_exporter": "python",
   "pygments_lexer": "ipython3",
   "version": "3.11.4"
  }
 },
 "nbformat": 4,
 "nbformat_minor": 5
}
