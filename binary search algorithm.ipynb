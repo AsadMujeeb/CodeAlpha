{
 "cells": [
  {
   "cell_type": "code",
   "execution_count": 1,
   "id": "e146f148",
   "metadata": {},
   "outputs": [
    {
     "name": "stdout",
     "output_type": "stream",
     "text": [
      "Enter the number to find :6\n",
      "Found at : 3\n"
     ]
    }
   ],
   "source": [
    "# write down the program to find the index of number using binary Search Algorithm\n",
    "pos = -1 \n",
    "\n",
    "def search(list, n):\n",
    "    lower = 0 ;\n",
    "    upper = len(list) - 1 \n",
    "    while lower <= upper:\n",
    "        mid = ( lower + upper ) // 2\n",
    "        \n",
    "        if list[mid] == n:\n",
    "            globals()['pos'] = mid\n",
    "            return True\n",
    "        else:\n",
    "            if list[mid] < n :\n",
    "                lower = mid\n",
    "            else:\n",
    "                upper = mid\n",
    "                \n",
    "\n",
    "#       1 2 3 4 5 6 \n",
    "list = [3,5,6,8,9,12]\n",
    "n = int(input(\"Enter the number to find :\"))     #search the element 8 in the given list\n",
    "\n",
    "if search(list, n):\n",
    "    print(\"Found at :\", pos + 1) \n",
    "else:\n",
    "    print(\"Not Found \")          \n",
    "            \n",
    "\n"
   ]
  },
  {
   "cell_type": "code",
   "execution_count": 3,
   "id": "d9e081e9",
   "metadata": {},
   "outputs": [
    {
     "name": "stdout",
     "output_type": "stream",
     "text": [
      "Enter the number to find :9\n",
      "Found at : 5\n"
     ]
    }
   ],
   "source": [
    "# write down the program to find the index of number using binary Search Algorithm\n",
    "pos = -1 \n",
    "\n",
    "def search(list, n):\n",
    "    lower = 0 ;\n",
    "    upper = len(list) - 1 \n",
    "    while lower <= upper:\n",
    "        mid = ( lower + upper ) // 2\n",
    "        \n",
    "        if list[mid] == n:\n",
    "            globals()['pos'] = mid\n",
    "            return True\n",
    "        else:\n",
    "            if list[mid] < n :\n",
    "                lower = mid\n",
    "            else:\n",
    "                upper = mid\n",
    "                \n",
    "\n",
    "#       1 2 3 4 5 6\n",
    "list = [3,5,6,8,9,12]\n",
    "n = int(input(\"Enter the number to find :\"))     #search the element 8 in the given list\n",
    "\n",
    "if search(list, n):\n",
    "    print(\"Found at :\", pos + 1) \n",
    "else:\n",
    "    print(\"Not Found \")          \n",
    "            \n",
    "\n"
   ]
  },
  {
   "cell_type": "code",
   "execution_count": 4,
   "id": "d613e22f",
   "metadata": {},
   "outputs": [
    {
     "name": "stdout",
     "output_type": "stream",
     "text": [
      "Enter the number to find :5\n",
      "Found at : 2\n"
     ]
    }
   ],
   "source": [
    "# write down the program to find the index of number using binary Search Algorithm\n",
    "pos = -1 \n",
    "\n",
    "def search(list, n):\n",
    "    lower = 0 ;\n",
    "    upper = len(list) - 1 \n",
    "    while lower <= upper:\n",
    "        mid = ( lower + upper ) // 2\n",
    "        \n",
    "        if list[mid] == n:\n",
    "            globals()['pos'] = mid\n",
    "            return True\n",
    "        else:\n",
    "            if list[mid] < n :\n",
    "                lower = mid\n",
    "            else:\n",
    "                upper = mid\n",
    "                \n",
    "\n",
    "\n",
    "list = [3,5,6,8,9,12]\n",
    "n = int(input(\"Enter the number to find :\"))     #search the element 8 in the given list\n",
    "\n",
    "if search(list, n):\n",
    "    print(\"Found at :\", pos + 1) \n",
    "else:\n",
    "    print(\"Not Found \")          \n",
    "            \n",
    "\n"
   ]
  },
  {
   "cell_type": "code",
   "execution_count": null,
   "id": "675244da",
   "metadata": {},
   "outputs": [],
   "source": []
  }
 ],
 "metadata": {
  "kernelspec": {
   "display_name": "Python 3 (ipykernel)",
   "language": "python",
   "name": "python3"
  },
  "language_info": {
   "codemirror_mode": {
    "name": "ipython",
    "version": 3
   },
   "file_extension": ".py",
   "mimetype": "text/x-python",
   "name": "python",
   "nbconvert_exporter": "python",
   "pygments_lexer": "ipython3",
   "version": "3.11.4"
  }
 },
 "nbformat": 4,
 "nbformat_minor": 5
}
